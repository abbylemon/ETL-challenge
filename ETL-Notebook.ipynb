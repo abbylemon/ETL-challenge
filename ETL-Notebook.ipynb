{
 "cells": [
  {
   "cell_type": "code",
   "execution_count": null,
   "metadata": {},
   "outputs": [],
   "source": [
    "# imports\n",
    "import pandas as pd\n",
    "from sqlalchemy import create_engine"
   ]
  },
  {
   "cell_type": "code",
   "execution_count": null,
   "metadata": {},
   "outputs": [],
   "source": [
    "# start Abbys section"
   ]
  },
  {
   "cell_type": "markdown",
   "metadata": {},
   "source": [
    "Bringing in Target Location file"
   ]
  },
  {
   "cell_type": "code",
   "execution_count": null,
   "metadata": {},
   "outputs": [],
   "source": [
    "target_df = pd.read_csv('target.csv', encoding='utf-8')\n",
    "target_df.head()"
   ]
  },
  {
   "cell_type": "code",
   "execution_count": null,
   "metadata": {},
   "outputs": [],
   "source": [
    "removecolumns_target_df = target_df[['ID', 'Address.AddressLine1', 'Address.City', 'Address.PostalCode', 'Address.Subdivision']]\n",
    "removecolumns_target_df.head()"
   ]
  },
  {
   "cell_type": "code",
   "execution_count": null,
   "metadata": {},
   "outputs": [],
   "source": [
    "renamed_target_df = removecolumns_target_df.rename(columns={\n",
    "    'ID': 'target_store_id',\n",
    "    'Address.AddressLine1': 'street_address',\n",
    "    'Address.City': 'city',\n",
    "    'Address.PostalCode': 'zip_code',\n",
    "    'Address.Subdivision': 'state_abr'\n",
    "})\n",
    "renamed_target_df.head()"
   ]
  },
  {
   "cell_type": "code",
   "execution_count": null,
   "metadata": {},
   "outputs": [],
   "source": [
    "renamed_target_df['striped_zip'] = renamed_target_df['zip_code'].str.split('-', n = 1, expand = True)[0]\n",
    "\n",
    "newzip_target_df = renamed_target_df.drop(columns=('zip_code'))\n",
    "newzip_target_df"
   ]
  },
  {
   "cell_type": "code",
   "execution_count": null,
   "metadata": {},
   "outputs": [],
   "source": [
    "rds_connection_string = \"postgres:postgres@localhost:5432/store_locations_db\"\n",
    "engine = create_engine(f'postgresql://{rds_connection_string}')"
   ]
  },
  {
   "cell_type": "code",
   "execution_count": null,
   "metadata": {},
   "outputs": [],
   "source": [
    "engine.table_names()"
   ]
  },
  {
   "cell_type": "code",
   "execution_count": null,
   "metadata": {},
   "outputs": [],
   "source": [
    "newzip_target_df.to_sql(name=\"target_locations\", con=engine, if_exists='append', index=False)"
   ]
  },
  {
   "cell_type": "code",
   "execution_count": null,
   "metadata": {},
   "outputs": [],
   "source": [
    "pd.read_sql_query('select * from target_locations', con=engine).head()"
   ]
  },
  {
   "cell_type": "markdown",
   "metadata": {},
   "source": [
    "Bringin in Starbucks Menu file"
   ]
  },
  {
   "cell_type": "code",
   "execution_count": null,
   "metadata": {},
   "outputs": [],
   "source": [
    "starbucks_menu = pd.read_csv('starbucks_drinkMenu_expanded.csv', encoding='utf-8')\n",
    "starbucks_menu.dtypes"
   ]
  },
  {
   "cell_type": "code",
   "execution_count": null,
   "metadata": {},
   "outputs": [],
   "source": [
    "starbucks_menu.head()"
   ]
  },
  {
   "cell_type": "code",
   "execution_count": null,
   "metadata": {},
   "outputs": [],
   "source": [
    "original_column_titles = list(starbucks_menu.columns.values)\n",
    "original_column_titles"
   ]
  },
  {
   "cell_type": "code",
   "execution_count": null,
   "metadata": {},
   "outputs": [],
   "source": [
    "clean_column_titles = []\n",
    "\n",
    "for column in original_column_titles:\n",
    "    columnLower = column.lower()\n",
    "    columnSpace = columnLower.strip()\n",
    "    columnPercent = columnSpace.replace('%',\"\")\n",
    "    columnOpen = columnPercent.replace(\"(\", \"\")\n",
    "    columnClose = columnOpen.replace(\")\", \"\")\n",
    "#     columnDoubleSpace = columnClose.replace(\"  \", \"\")\n",
    "    columnUnderscore = columnClose.replace(\" \", \"_\")\n",
    "    columnDouble = columnUnderscore.replace(\"__\", \"_\")\n",
    "    \n",
    "    clean_column_titles.append(columnDouble)\n",
    "    \n",
    "clean_column_titles"
   ]
  },
  {
   "cell_type": "code",
   "execution_count": null,
   "metadata": {},
   "outputs": [],
   "source": [
    "# dict(zip(a, b))\n",
    "column_dict = dict(zip(original_column_titles,clean_column_titles))\n",
    "column_dict"
   ]
  },
  {
   "cell_type": "code",
   "execution_count": null,
   "metadata": {},
   "outputs": [],
   "source": [
    "menu_cleaned_df = starbucks_menu.rename(columns=column_dict)\n",
    "menu_cleaned_df.head()"
   ]
  },
  {
   "cell_type": "code",
   "execution_count": null,
   "metadata": {},
   "outputs": [],
   "source": [
    "menu_cleaned_df.to_sql(name=\"starbucks_menu\", con=engine, if_exists='append', index=False)"
   ]
  },
  {
   "cell_type": "code",
   "execution_count": null,
   "metadata": {},
   "outputs": [],
   "source": [
    "pd.read_sql_query('select * from starbucks_menu', con=engine).head()"
   ]
  },
  {
   "cell_type": "code",
   "execution_count": null,
   "metadata": {},
   "outputs": [],
   "source": [
    "# end Abbys section"
   ]
  },
  {
   "cell_type": "code",
   "execution_count": null,
   "metadata": {},
   "outputs": [],
   "source": [
    "# start Umar section"
   ]
  },
  {
   "cell_type": "code",
   "execution_count": null,
   "metadata": {},
   "outputs": [],
   "source": []
  },
  {
   "cell_type": "code",
   "execution_count": null,
   "metadata": {},
   "outputs": [],
   "source": [
    "# end Umar section"
   ]
  }
 ],
 "metadata": {
  "kernelspec": {
   "display_name": "Python 3",
   "language": "python",
   "name": "python3"
  },
  "language_info": {
   "codemirror_mode": {
    "name": "ipython",
    "version": 3
   },
   "file_extension": ".py",
   "mimetype": "text/x-python",
   "name": "python",
   "nbconvert_exporter": "python",
   "pygments_lexer": "ipython3",
   "version": "3.6.9"
  }
 },
 "nbformat": 4,
 "nbformat_minor": 2
}
